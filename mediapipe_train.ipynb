{
 "cells": [
  {
   "cell_type": "code",
   "execution_count": null,
   "metadata": {},
   "outputs": [],
   "source": []
  },
  {
   "cell_type": "code",
   "execution_count": 145,
   "metadata": {},
   "outputs": [],
   "source": [
    "import csv\n",
    "import json\n",
    "import mediapipe as mp\n",
    "import os\n",
    "import numpy as np\n",
    "\n",
    "# Load the Mediapipe Hand Solution\n",
    "mp_hands = mp.solutions.hands.Hands(static_image_mode=True, max_num_hands=1)\n",
    "\n",
    "# Create a dictionary to store the data\n",
    "data = {'landmarks': [], 'labels': []}\n",
    "\n",
    "# Loop over the images and extract the landmarks and labels\n",
    "for label in ['close_hand', 'open_hand']:\n",
    "    # Get the image paths and labels\n",
    "    image_folder = f\"/home/kalpit/Documents/dataset/{label}\"\n",
    "    image_paths = [os.path.join(image_folder, filename) for filename in os.listdir(image_folder)]\n",
    "    labels = np.ones(len(image_paths)) if label == 'close_hand' else np.zeros(len(image_paths))\n",
    "\n",
    "    # Loop over the images and extract the landmarks\n",
    "    for image_path, label in zip(image_paths, labels):\n",
    "        # Load the image\n",
    "        image = cv2.imread(image_path)\n",
    "\n",
    "        # Convert the image to RGB\n",
    "        image = cv2.cvtColor(image, cv2.COLOR_BGR2RGB)\n",
    "\n",
    "        # Process the image with Mediapipe\n",
    "        results = mp_hands.process(image)\n",
    "\n",
    "        # Extract the landmarks if they are present\n",
    "        if results.multi_hand_landmarks:\n",
    "            landmarks = [[float(landmark.x), float(landmark.y), float(landmark.z)] for landmark in results.multi_hand_landmarks[0].landmark]\n",
    "\n",
    "            # Add the landmarks and label to the dictionary\n",
    "            data['landmarks'].append(landmarks)\n",
    "            data['labels'].append(label)\n",
    "\n",
    "# Close the Mediapipe Hand Solution\n",
    "mp_hands.close()\n",
    "\n",
    "# Save the dictionary as a JSON file\n",
    "with open('hand_landmarks.json', 'w') as f:\n",
    "    json.dump(data, f)\n"
   ]
  },
  {
   "cell_type": "code",
   "execution_count": 146,
   "metadata": {},
   "outputs": [],
   "source": [
    "# 1 is for closed\n",
    "# lalel 0 is for open"
   ]
  },
  {
   "cell_type": "code",
   "execution_count": 147,
   "metadata": {},
   "outputs": [
    {
     "name": "stderr",
     "output_type": "stream",
     "text": [
      "/tmp/ipykernel_85827/3177286181.py:10: SettingWithCopyWarning: \n",
      "A value is trying to be set on a copy of a slice from a DataFrame\n",
      "\n",
      "See the caveats in the documentation: https://pandas.pydata.org/pandas-docs/stable/user_guide/indexing.html#returning-a-view-versus-a-copy\n",
      "  X[i] = pd.Series(X[i])\n"
     ]
    }
   ],
   "source": [
    "import pandas as pd\n",
    "from sklearn.model_selection import train_test_split\n",
    "\n",
    "# Load the data from the JSON file\n",
    "data = pd.read_json('hand_landmarks.json')\n",
    "\n",
    "# Split the data into features and labels\n",
    "X = data[\"landmarks\"]\n",
    "for i in range(len(X)):\n",
    "    X[i] = pd.Series(X[i])\n",
    "y = data[\"labels\"]\n",
    "# # Split the data into training and testing sets\n",
    "X_train, X_test, y_train, y_test = train_test_split(X, y, test_size=0.2, random_state=42)\n"
   ]
  },
  {
   "cell_type": "code",
   "execution_count": 148,
   "metadata": {},
   "outputs": [],
   "source": [
    "# Load the data from the JSON file\n",
    "data = pd.read_json('hand_landmarks.json')\n",
    "\n",
    "# Reshape the landmarks data\n",
    "landmarks = pd.concat([pd.DataFrame(x) for x in data[\"landmarks\"].values], ignore_index=True)\n",
    "\n",
    "# Split the data into features and labels\n",
    "X = landmarks.values.reshape(-1, 21, 3)\n",
    "X = X.reshape(X.shape[0], -1)\n",
    "y = data[\"labels\"]\n"
   ]
  },
  {
   "cell_type": "code",
   "execution_count": 149,
   "metadata": {},
   "outputs": [
    {
     "name": "stdout",
     "output_type": "stream",
     "text": [
      "(3384, 63)\n"
     ]
    }
   ],
   "source": [
    "print(X.shape)"
   ]
  },
  {
   "cell_type": "code",
   "execution_count": 150,
   "metadata": {},
   "outputs": [],
   "source": [
    "X_train, X_test, y_train, y_test = train_test_split(X, y, test_size=0.2, random_state=42)\n"
   ]
  },
  {
   "cell_type": "code",
   "execution_count": 151,
   "metadata": {},
   "outputs": [
    {
     "name": "stdout",
     "output_type": "stream",
     "text": [
      "(677, 63)\n"
     ]
    }
   ],
   "source": [
    "print(X_test.shape)"
   ]
  },
  {
   "cell_type": "code",
   "execution_count": 167,
   "metadata": {},
   "outputs": [
    {
     "name": "stdout",
     "output_type": "stream",
     "text": [
      "Epoch 1/50\n"
     ]
    },
    {
     "name": "stderr",
     "output_type": "stream",
     "text": [
      "/home/kalpit/.local/lib/python3.10/site-packages/keras/optimizer_v2/adam.py:105: UserWarning: The `lr` argument is deprecated, use `learning_rate` instead.\n",
      "  super(Adam, self).__init__(name, **kwargs)\n"
     ]
    },
    {
     "name": "stdout",
     "output_type": "stream",
     "text": [
      "85/85 [==============================] - 1s 4ms/step - loss: 0.5309 - accuracy: 0.7296 - val_loss: 0.2752 - val_accuracy: 0.9188\n",
      "Epoch 2/50\n",
      "85/85 [==============================] - 0s 3ms/step - loss: 0.2090 - accuracy: 0.9243 - val_loss: 0.1396 - val_accuracy: 0.9601\n",
      "Epoch 3/50\n",
      "85/85 [==============================] - 0s 4ms/step - loss: 0.0989 - accuracy: 0.9686 - val_loss: 0.0684 - val_accuracy: 0.9852\n",
      "Epoch 4/50\n",
      "85/85 [==============================] - 0s 3ms/step - loss: 0.0429 - accuracy: 0.9911 - val_loss: 0.0268 - val_accuracy: 0.9941\n",
      "Epoch 5/50\n",
      "85/85 [==============================] - 0s 3ms/step - loss: 0.0229 - accuracy: 0.9941 - val_loss: 0.0375 - val_accuracy: 0.9882\n",
      "Epoch 6/50\n",
      "85/85 [==============================] - 0s 3ms/step - loss: 0.0174 - accuracy: 0.9978 - val_loss: 0.0126 - val_accuracy: 0.9956\n",
      "Epoch 7/50\n",
      "85/85 [==============================] - 0s 3ms/step - loss: 0.0151 - accuracy: 0.9959 - val_loss: 0.0119 - val_accuracy: 0.9956\n",
      "Epoch 8/50\n",
      "85/85 [==============================] - 0s 3ms/step - loss: 0.0153 - accuracy: 0.9959 - val_loss: 0.0128 - val_accuracy: 0.9956\n",
      "Epoch 9/50\n",
      "85/85 [==============================] - 0s 3ms/step - loss: 0.0103 - accuracy: 0.9982 - val_loss: 0.0268 - val_accuracy: 0.9897\n",
      "Epoch 10/50\n",
      "85/85 [==============================] - 0s 3ms/step - loss: 0.0081 - accuracy: 0.9985 - val_loss: 0.0135 - val_accuracy: 0.9956\n",
      "Epoch 11/50\n",
      "85/85 [==============================] - 0s 3ms/step - loss: 0.0086 - accuracy: 0.9982 - val_loss: 0.0115 - val_accuracy: 0.9956\n",
      "Epoch 12/50\n",
      "85/85 [==============================] - 0s 3ms/step - loss: 0.0088 - accuracy: 0.9978 - val_loss: 0.0127 - val_accuracy: 0.9956\n",
      "Epoch 13/50\n",
      "85/85 [==============================] - 0s 3ms/step - loss: 0.0119 - accuracy: 0.9963 - val_loss: 0.0097 - val_accuracy: 0.9985\n",
      "Epoch 14/50\n",
      "85/85 [==============================] - 0s 3ms/step - loss: 0.0040 - accuracy: 0.9989 - val_loss: 0.0118 - val_accuracy: 0.9956\n",
      "Epoch 15/50\n",
      "85/85 [==============================] - 0s 3ms/step - loss: 0.0017 - accuracy: 0.9996 - val_loss: 0.0109 - val_accuracy: 0.9985\n",
      "Epoch 16/50\n",
      "85/85 [==============================] - 0s 3ms/step - loss: 0.0016 - accuracy: 0.9996 - val_loss: 0.0149 - val_accuracy: 0.9956\n",
      "Epoch 17/50\n",
      "85/85 [==============================] - 0s 3ms/step - loss: 0.0023 - accuracy: 0.9989 - val_loss: 0.0128 - val_accuracy: 0.9970\n",
      "Epoch 18/50\n",
      "85/85 [==============================] - 0s 3ms/step - loss: 0.0012 - accuracy: 1.0000 - val_loss: 0.0136 - val_accuracy: 0.9956\n",
      "Epoch 19/50\n",
      "85/85 [==============================] - 0s 3ms/step - loss: 5.0205e-04 - accuracy: 1.0000 - val_loss: 0.0131 - val_accuracy: 0.9985\n",
      "Epoch 20/50\n",
      "85/85 [==============================] - 0s 3ms/step - loss: 5.9841e-04 - accuracy: 1.0000 - val_loss: 0.0133 - val_accuracy: 0.9985\n",
      "Epoch 21/50\n",
      "85/85 [==============================] - 0s 3ms/step - loss: 6.5229e-04 - accuracy: 1.0000 - val_loss: 0.0143 - val_accuracy: 0.9970\n",
      "Epoch 22/50\n",
      "85/85 [==============================] - 0s 3ms/step - loss: 0.0023 - accuracy: 0.9996 - val_loss: 0.0169 - val_accuracy: 0.9956\n",
      "Epoch 23/50\n",
      "85/85 [==============================] - 0s 3ms/step - loss: 0.0095 - accuracy: 0.9963 - val_loss: 0.0169 - val_accuracy: 0.9970\n",
      "Epoch 24/50\n",
      "85/85 [==============================] - 0s 3ms/step - loss: 0.0032 - accuracy: 0.9989 - val_loss: 0.0124 - val_accuracy: 0.9985\n",
      "Epoch 25/50\n",
      "85/85 [==============================] - 0s 3ms/step - loss: 7.6929e-04 - accuracy: 1.0000 - val_loss: 0.0132 - val_accuracy: 0.9985\n",
      "Epoch 26/50\n",
      "85/85 [==============================] - 0s 3ms/step - loss: 3.8983e-04 - accuracy: 1.0000 - val_loss: 0.0142 - val_accuracy: 0.9985\n",
      "Epoch 27/50\n",
      "85/85 [==============================] - 0s 3ms/step - loss: 2.3157e-04 - accuracy: 1.0000 - val_loss: 0.0141 - val_accuracy: 0.9985\n",
      "Epoch 28/50\n",
      "85/85 [==============================] - 0s 3ms/step - loss: 2.6666e-04 - accuracy: 1.0000 - val_loss: 0.0152 - val_accuracy: 0.9970\n",
      "Epoch 29/50\n",
      "85/85 [==============================] - 0s 3ms/step - loss: 3.0804e-04 - accuracy: 1.0000 - val_loss: 0.0144 - val_accuracy: 0.9985\n",
      "Epoch 30/50\n",
      "85/85 [==============================] - 0s 3ms/step - loss: 2.4126e-04 - accuracy: 1.0000 - val_loss: 0.0144 - val_accuracy: 0.9970\n",
      "Epoch 31/50\n",
      "85/85 [==============================] - 0s 3ms/step - loss: 2.6472e-04 - accuracy: 1.0000 - val_loss: 0.0160 - val_accuracy: 0.9970\n",
      "Epoch 32/50\n",
      "85/85 [==============================] - 0s 3ms/step - loss: 1.5986e-04 - accuracy: 1.0000 - val_loss: 0.0135 - val_accuracy: 0.9985\n",
      "Epoch 33/50\n",
      "85/85 [==============================] - 0s 3ms/step - loss: 5.0626e-04 - accuracy: 1.0000 - val_loss: 0.0201 - val_accuracy: 0.9970\n",
      "Epoch 34/50\n",
      "85/85 [==============================] - 0s 3ms/step - loss: 0.0026 - accuracy: 0.9985 - val_loss: 0.0132 - val_accuracy: 0.9970\n",
      "Epoch 35/50\n",
      "85/85 [==============================] - 0s 3ms/step - loss: 0.0068 - accuracy: 0.9985 - val_loss: 0.0179 - val_accuracy: 0.9956\n",
      "Epoch 36/50\n",
      "85/85 [==============================] - 0s 3ms/step - loss: 0.0054 - accuracy: 0.9985 - val_loss: 0.0104 - val_accuracy: 0.9985\n",
      "Epoch 37/50\n",
      "85/85 [==============================] - 0s 3ms/step - loss: 0.0021 - accuracy: 0.9993 - val_loss: 0.0198 - val_accuracy: 0.9970\n",
      "Epoch 38/50\n",
      "85/85 [==============================] - 0s 3ms/step - loss: 0.0022 - accuracy: 0.9993 - val_loss: 0.0137 - val_accuracy: 0.9970\n",
      "Epoch 39/50\n",
      "85/85 [==============================] - 0s 3ms/step - loss: 6.8101e-04 - accuracy: 1.0000 - val_loss: 0.0172 - val_accuracy: 0.9956\n",
      "Epoch 40/50\n",
      "85/85 [==============================] - 0s 3ms/step - loss: 0.0061 - accuracy: 0.9974 - val_loss: 0.0189 - val_accuracy: 0.9956\n",
      "Epoch 41/50\n",
      "85/85 [==============================] - 0s 3ms/step - loss: 0.0108 - accuracy: 0.9959 - val_loss: 0.0159 - val_accuracy: 0.9970\n",
      "Epoch 42/50\n",
      "85/85 [==============================] - 0s 3ms/step - loss: 0.0035 - accuracy: 0.9989 - val_loss: 0.0092 - val_accuracy: 0.9985\n",
      "Epoch 43/50\n",
      "85/85 [==============================] - 0s 3ms/step - loss: 0.0021 - accuracy: 0.9993 - val_loss: 0.0119 - val_accuracy: 0.9985\n",
      "Epoch 44/50\n",
      "85/85 [==============================] - 0s 3ms/step - loss: 0.0023 - accuracy: 0.9989 - val_loss: 0.0110 - val_accuracy: 0.9970\n",
      "Epoch 45/50\n",
      "85/85 [==============================] - 0s 3ms/step - loss: 2.8840e-04 - accuracy: 1.0000 - val_loss: 0.0102 - val_accuracy: 0.9985\n",
      "Epoch 46/50\n",
      "85/85 [==============================] - 0s 3ms/step - loss: 1.2115e-04 - accuracy: 1.0000 - val_loss: 0.0122 - val_accuracy: 0.9985\n",
      "Epoch 47/50\n",
      "85/85 [==============================] - 0s 4ms/step - loss: 5.7837e-05 - accuracy: 1.0000 - val_loss: 0.0129 - val_accuracy: 0.9985\n",
      "Epoch 48/50\n",
      "85/85 [==============================] - 0s 3ms/step - loss: 1.0237e-04 - accuracy: 1.0000 - val_loss: 0.0118 - val_accuracy: 0.9985\n",
      "Epoch 49/50\n",
      "85/85 [==============================] - 0s 3ms/step - loss: 7.3501e-05 - accuracy: 1.0000 - val_loss: 0.0132 - val_accuracy: 0.9985\n",
      "Epoch 50/50\n",
      "85/85 [==============================] - 0s 4ms/step - loss: 6.4353e-05 - accuracy: 1.0000 - val_loss: 0.0136 - val_accuracy: 0.9985\n",
      "22/22 [==============================] - 0s 881us/step - loss: 0.0136 - accuracy: 0.9985\n",
      "Accuracy: 0.9985228776931763\n"
     ]
    }
   ],
   "source": [
    "# from keras.models import Sequential\n",
    "# from keras.layers import Dense, Dropout, Flatten, Conv1D, MaxPooling1D\n",
    "# from tensorflow.keras.optimizers import Adam\n",
    "\n",
    "# # Define the model architecture\n",
    "# model = Sequential()\n",
    "# model.add(Conv1D(filters=32, kernel_size=3, activation='relu', input_shape=(X_train.shape[1], 1)))\n",
    "# model.add(MaxPooling1D(pool_size=2))\n",
    "# model.add(Conv1D(filters=64, kernel_size=3, activation='relu'))\n",
    "# model.add(MaxPooling1D(pool_size=2))\n",
    "# model.add(Conv1D(filters=128, kernel_size=3, activation='relu'))\n",
    "# model.add(MaxPooling1D(pool_size=2))\n",
    "# model.add(Flatten())\n",
    "# model.add(Dense(128, activation='relu'))\n",
    "# model.add(Dropout(0.5))\n",
    "# model.add(Dense(1, activation='sigmoid'))\n",
    "\n",
    "# # Compile the model\n",
    "# optimizer = Adam(lr=0.001)\n",
    "# model.compile(loss='binary_crossentropy', optimizer=optimizer, metrics=['accuracy'])\n",
    "\n",
    "# # Train the model\n",
    "# history = model.fit(X_train.reshape((X_train.shape[0], X_train.shape[1], 1)), y_train, validation_data=(X_test.reshape((X_test.shape[0], X_test.shape[1], 1)), y_test), epochs=50, batch_size=32)\n",
    "\n",
    "# # Evaluate the model\n",
    "# accuracy = model.evaluate(X_test.reshape((X_test.shape[0], X_test.shape[1], 1)), y_test)[1]\n",
    "# print('Accuracy:', accuracy)\n",
    "\n",
    "\n"
   ]
  },
  {
   "cell_type": "code",
   "execution_count": 170,
   "metadata": {},
   "outputs": [
    {
     "name": "stdout",
     "output_type": "stream",
     "text": [
      "Epoch 1/50\n"
     ]
    },
    {
     "name": "stderr",
     "output_type": "stream",
     "text": [
      "/home/kalpit/.local/lib/python3.10/site-packages/keras/optimizer_v2/adam.py:105: UserWarning: The `lr` argument is deprecated, use `learning_rate` instead.\n",
      "  super(Adam, self).__init__(name, **kwargs)\n"
     ]
    },
    {
     "name": "stdout",
     "output_type": "stream",
     "text": [
      "85/85 [==============================] - 1s 6ms/step - loss: 0.6886 - accuracy: 0.5320 - val_loss: 0.6894 - val_accuracy: 0.5273\n",
      "Epoch 2/50\n",
      "85/85 [==============================] - 0s 5ms/step - loss: 0.6305 - accuracy: 0.6328 - val_loss: 0.4624 - val_accuracy: 0.7430\n",
      "Epoch 3/50\n",
      "85/85 [==============================] - 0s 5ms/step - loss: 0.3124 - accuracy: 0.8604 - val_loss: 0.1910 - val_accuracy: 0.9335\n",
      "Epoch 4/50\n",
      "85/85 [==============================] - 0s 5ms/step - loss: 0.1996 - accuracy: 0.9139 - val_loss: 0.0950 - val_accuracy: 0.9631\n",
      "Epoch 5/50\n",
      "85/85 [==============================] - 0s 5ms/step - loss: 0.1388 - accuracy: 0.9450 - val_loss: 0.0595 - val_accuracy: 0.9838\n",
      "Epoch 6/50\n",
      "85/85 [==============================] - 0s 5ms/step - loss: 0.1040 - accuracy: 0.9594 - val_loss: 0.0533 - val_accuracy: 0.9778\n",
      "Epoch 7/50\n",
      "85/85 [==============================] - 0s 5ms/step - loss: 0.0850 - accuracy: 0.9671 - val_loss: 0.0505 - val_accuracy: 0.9749\n",
      "Epoch 8/50\n",
      "85/85 [==============================] - 0s 5ms/step - loss: 0.0654 - accuracy: 0.9760 - val_loss: 0.0159 - val_accuracy: 0.9970\n",
      "Epoch 9/50\n",
      "85/85 [==============================] - 0s 5ms/step - loss: 0.0544 - accuracy: 0.9815 - val_loss: 0.0233 - val_accuracy: 0.9911\n",
      "Epoch 10/50\n",
      "85/85 [==============================] - 0s 5ms/step - loss: 0.0373 - accuracy: 0.9874 - val_loss: 0.0264 - val_accuracy: 0.9926\n",
      "Epoch 11/50\n",
      "85/85 [==============================] - 0s 5ms/step - loss: 0.0588 - accuracy: 0.9778 - val_loss: 0.0206 - val_accuracy: 0.9941\n",
      "Epoch 12/50\n",
      "85/85 [==============================] - 0s 5ms/step - loss: 0.0499 - accuracy: 0.9837 - val_loss: 0.0275 - val_accuracy: 0.9897\n",
      "Epoch 13/50\n",
      "85/85 [==============================] - 0s 5ms/step - loss: 0.0409 - accuracy: 0.9841 - val_loss: 0.0164 - val_accuracy: 0.9956\n",
      "Epoch 14/50\n",
      "85/85 [==============================] - 0s 5ms/step - loss: 0.0284 - accuracy: 0.9900 - val_loss: 0.0220 - val_accuracy: 0.9926\n",
      "Epoch 15/50\n",
      "85/85 [==============================] - 0s 5ms/step - loss: 0.0351 - accuracy: 0.9874 - val_loss: 0.0200 - val_accuracy: 0.9956\n",
      "Epoch 16/50\n",
      "85/85 [==============================] - 0s 5ms/step - loss: 0.0203 - accuracy: 0.9930 - val_loss: 0.0175 - val_accuracy: 0.9956\n",
      "Epoch 17/50\n",
      "85/85 [==============================] - 0s 5ms/step - loss: 0.0456 - accuracy: 0.9860 - val_loss: 0.0122 - val_accuracy: 0.9970\n",
      "Epoch 18/50\n",
      "85/85 [==============================] - 0s 5ms/step - loss: 0.0323 - accuracy: 0.9897 - val_loss: 0.0112 - val_accuracy: 0.9956\n",
      "Epoch 19/50\n",
      "85/85 [==============================] - 0s 5ms/step - loss: 0.0197 - accuracy: 0.9934 - val_loss: 0.0305 - val_accuracy: 0.9882\n",
      "Epoch 20/50\n",
      "85/85 [==============================] - 1s 6ms/step - loss: 0.0213 - accuracy: 0.9922 - val_loss: 0.0163 - val_accuracy: 0.9956\n",
      "Epoch 21/50\n",
      "85/85 [==============================] - 1s 7ms/step - loss: 0.0231 - accuracy: 0.9926 - val_loss: 0.0137 - val_accuracy: 0.9956\n",
      "Epoch 22/50\n",
      "85/85 [==============================] - 1s 6ms/step - loss: 0.0243 - accuracy: 0.9919 - val_loss: 0.0176 - val_accuracy: 0.9956\n",
      "Epoch 23/50\n",
      "85/85 [==============================] - 1s 6ms/step - loss: 0.0242 - accuracy: 0.9915 - val_loss: 0.0215 - val_accuracy: 0.9941\n",
      "Epoch 24/50\n",
      "85/85 [==============================] - 1s 6ms/step - loss: 0.0299 - accuracy: 0.9900 - val_loss: 0.0150 - val_accuracy: 0.9956\n",
      "Epoch 25/50\n",
      "85/85 [==============================] - 1s 7ms/step - loss: 0.0297 - accuracy: 0.9897 - val_loss: 0.0178 - val_accuracy: 0.9911\n",
      "Epoch 26/50\n",
      "85/85 [==============================] - 1s 6ms/step - loss: 0.0231 - accuracy: 0.9926 - val_loss: 0.0171 - val_accuracy: 0.9956\n",
      "Epoch 27/50\n",
      "85/85 [==============================] - 1s 7ms/step - loss: 0.0161 - accuracy: 0.9948 - val_loss: 0.0137 - val_accuracy: 0.9956\n",
      "Epoch 28/50\n",
      "85/85 [==============================] - 1s 6ms/step - loss: 0.0065 - accuracy: 0.9978 - val_loss: 0.0222 - val_accuracy: 0.9970\n",
      "Epoch 29/50\n",
      "85/85 [==============================] - 1s 6ms/step - loss: 0.0257 - accuracy: 0.9915 - val_loss: 0.0154 - val_accuracy: 0.9956\n",
      "Epoch 30/50\n",
      "85/85 [==============================] - 1s 6ms/step - loss: 0.0294 - accuracy: 0.9915 - val_loss: 0.0165 - val_accuracy: 0.9941\n",
      "Epoch 31/50\n",
      "85/85 [==============================] - 1s 6ms/step - loss: 0.0200 - accuracy: 0.9908 - val_loss: 0.0126 - val_accuracy: 0.9970\n",
      "Epoch 32/50\n",
      "85/85 [==============================] - 1s 6ms/step - loss: 0.0182 - accuracy: 0.9948 - val_loss: 0.0164 - val_accuracy: 0.9956\n",
      "Epoch 33/50\n",
      "85/85 [==============================] - 1s 6ms/step - loss: 0.0192 - accuracy: 0.9937 - val_loss: 0.0116 - val_accuracy: 0.9941\n",
      "Epoch 34/50\n",
      "85/85 [==============================] - 1s 6ms/step - loss: 0.0170 - accuracy: 0.9937 - val_loss: 0.0150 - val_accuracy: 0.9970\n",
      "Epoch 35/50\n",
      "85/85 [==============================] - 0s 6ms/step - loss: 0.0135 - accuracy: 0.9956 - val_loss: 0.0166 - val_accuracy: 0.9956\n",
      "Epoch 36/50\n",
      "85/85 [==============================] - 1s 6ms/step - loss: 0.0360 - accuracy: 0.9889 - val_loss: 0.0165 - val_accuracy: 0.9956\n",
      "Epoch 37/50\n",
      "85/85 [==============================] - 1s 6ms/step - loss: 0.0197 - accuracy: 0.9948 - val_loss: 0.0140 - val_accuracy: 0.9970\n",
      "Epoch 38/50\n",
      "85/85 [==============================] - 1s 6ms/step - loss: 0.0154 - accuracy: 0.9963 - val_loss: 0.0132 - val_accuracy: 0.9956\n",
      "Epoch 39/50\n",
      "85/85 [==============================] - 1s 7ms/step - loss: 0.0070 - accuracy: 0.9978 - val_loss: 0.0260 - val_accuracy: 0.9956\n",
      "Epoch 40/50\n",
      "85/85 [==============================] - 1s 7ms/step - loss: 0.0170 - accuracy: 0.9952 - val_loss: 0.0152 - val_accuracy: 0.9970\n",
      "Epoch 41/50\n",
      "85/85 [==============================] - 1s 7ms/step - loss: 0.0188 - accuracy: 0.9945 - val_loss: 0.0168 - val_accuracy: 0.9941\n",
      "Epoch 42/50\n",
      "85/85 [==============================] - 1s 7ms/step - loss: 0.0119 - accuracy: 0.9970 - val_loss: 0.0075 - val_accuracy: 0.9970\n",
      "Epoch 43/50\n",
      "85/85 [==============================] - 1s 7ms/step - loss: 0.0126 - accuracy: 0.9956 - val_loss: 0.0173 - val_accuracy: 0.9956\n",
      "Epoch 44/50\n",
      "85/85 [==============================] - 1s 7ms/step - loss: 0.0230 - accuracy: 0.9937 - val_loss: 0.0113 - val_accuracy: 0.9970\n",
      "Epoch 45/50\n",
      "85/85 [==============================] - 1s 6ms/step - loss: 0.0069 - accuracy: 0.9970 - val_loss: 0.0161 - val_accuracy: 0.9970\n",
      "Epoch 46/50\n",
      "85/85 [==============================] - 1s 6ms/step - loss: 0.0103 - accuracy: 0.9974 - val_loss: 0.0148 - val_accuracy: 0.9956\n",
      "Epoch 47/50\n",
      "85/85 [==============================] - 1s 6ms/step - loss: 0.0118 - accuracy: 0.9967 - val_loss: 0.0125 - val_accuracy: 0.9956\n",
      "Epoch 48/50\n",
      "85/85 [==============================] - 1s 6ms/step - loss: 0.0166 - accuracy: 0.9963 - val_loss: 0.0139 - val_accuracy: 0.9941\n",
      "Epoch 49/50\n",
      "85/85 [==============================] - 1s 6ms/step - loss: 0.0102 - accuracy: 0.9956 - val_loss: 0.0154 - val_accuracy: 0.9970\n",
      "Epoch 50/50\n",
      "85/85 [==============================] - 1s 7ms/step - loss: 0.0063 - accuracy: 0.9978 - val_loss: 0.0157 - val_accuracy: 0.9970\n",
      "22/22 [==============================] - 0s 2ms/step - loss: 0.0157 - accuracy: 0.9970\n",
      "Accuracy: 0.9970458149909973\n"
     ]
    }
   ],
   "source": [
    "from keras.models import Sequential\n",
    "from keras.layers import Dense, Dropout, Flatten, Conv1D, MaxPooling1D\n",
    "from tensorflow.keras.optimizers import Adam\n",
    "\n",
    "# Define the model architecture\n",
    "model = Sequential()\n",
    "model.add(Conv1D(filters=32, kernel_size=3, activation='relu', input_shape=(X_train.shape[1], 1)))\n",
    "model.add(Conv1D(filters=32, kernel_size=3, activation='relu'))\n",
    "model.add(MaxPooling1D(pool_size=2))\n",
    "model.add(Dropout(0.25))\n",
    "model.add(Conv1D(filters=64, kernel_size=3, activation='relu'))\n",
    "model.add(Conv1D(filters=64, kernel_size=3, activation='relu'))\n",
    "model.add(MaxPooling1D(pool_size=2))\n",
    "model.add(Dropout(0.25))\n",
    "model.add(Conv1D(filters=128, kernel_size=3, activation='relu'))\n",
    "model.add(Conv1D(filters=128, kernel_size=3, activation='relu'))\n",
    "model.add(MaxPooling1D(pool_size=2))\n",
    "model.add(Dropout(0.25))\n",
    "model.add(Flatten())\n",
    "model.add(Dense(256, activation='relu'))\n",
    "model.add(Dropout(0.5))\n",
    "model.add(Dense(128, activation='relu'))\n",
    "model.add(Dropout(0.5))\n",
    "model.add(Dense(1, activation='sigmoid'))\n",
    "\n",
    "# Compile the model\n",
    "optimizer = Adam(lr=0.001)\n",
    "model.compile(loss='binary_crossentropy', optimizer=optimizer, metrics=['accuracy'])\n",
    "\n",
    "# Train the model\n",
    "history = model.fit(X_train.reshape((X_train.shape[0], X_train.shape[1], 1)), y_train, validation_data=(X_test.reshape((X_test.shape[0], X_test.shape[1], 1)), y_test), epochs=50, batch_size=32)\n",
    "\n",
    "# Evaluate the model\n",
    "accuracy = model.evaluate(X_test.reshape((X_test.shape[0], X_test.shape[1], 1)), y_test)[1]\n",
    "print('Accuracy:', accuracy)\n"
   ]
  },
  {
   "cell_type": "code",
   "execution_count": 168,
   "metadata": {},
   "outputs": [
    {
     "data": {
      "text/plain": [
       "<AxesSubplot:>"
      ]
     },
     "execution_count": 168,
     "metadata": {},
     "output_type": "execute_result"
    },
    {
     "data": {
      "image/png": "[encoded data removed]",
      "text/plain": [
       "<Figure size 432x288 with 2 Axes>"
      ]
     },
     "metadata": {
      "needs_background": "light"
     },
     "output_type": "display_data"
    }
   ],
   "source": [
    "\n",
    "from sklearn.metrics import confusion_matrix\n",
    "import seaborn as sns\n",
    "\n",
    "# Generate predictions for X_test\n",
    "# Generate predictions for X_test\n",
    "y_pred_prob = model.predict(X_test.reshape((X_test.shape[0], X_test.shape[1], 1)))\n",
    "y_pred = np.argmax(y_pred_prob, axis=1)\n",
    "\n",
    "# y_pred = model.predict_classes(X_test.reshape((X_test.shape[0], X_test.shape[1], 1)))\n",
    "\n",
    "# Generate confusion matrix\n",
    "cm = confusion_matrix(y_test, y_pred)\n",
    "\n",
    "# Plot heatmap of confusion matrix\n",
    "sns.heatmap(cm, annot=True, fmt='d')\n"
   ]
  },
  {
   "cell_type": "code",
   "execution_count": 172,
   "metadata": {},
   "outputs": [
    {
     "data": {
      "image/png": "[encoded data removed]",
      "text/plain": [
       "<Figure size 432x288 with 1 Axes>"
      ]
     },
     "metadata": {
      "needs_background": "light"
     },
     "output_type": "display_data"
    }
   ],
   "source": [
    "import matplotlib.pyplot as plt\n",
    "\n",
    "# Get the training and validation accuracy from the history object\n",
    "train_acc = history.history['accuracy']\n",
    "val_acc = history.history['val_accuracy']\n",
    "\n",
    "# Plot the accuracy\n",
    "plt.plot(train_acc, label='Training Accuracy')\n",
    "plt.plot(val_acc, label='Validation Accuracy')\n",
    "plt.xlabel('Epoch')\n",
    "plt.ylabel('Accuracy')\n",
    "plt.legend()\n",
    "plt.show()\n"
   ]
  },
  {
   "cell_type": "code",
   "execution_count": 173,
   "metadata": {},
   "outputs": [
    {
     "name": "stdout",
     "output_type": "stream",
     "text": [
      "INFO:tensorflow:Assets written to: /tmp/tmp_7cogjb9/assets\n"
     ]
    },
    {
     "name": "stderr",
     "output_type": "stream",
     "text": [
      "INFO:tensorflow:Assets written to: /tmp/tmp_7cogjb9/assets\n",
      "2023-04-20 18:24:46.358372: W tensorflow/compiler/mlir/lite/python/tf_tfl_flatbuffer_helpers.cc:357] Ignored output_format.\n",
      "2023-04-20 18:24:46.358400: W tensorflow/compiler/mlir/lite/python/tf_tfl_flatbuffer_helpers.cc:360] Ignored drop_control_dependency.\n",
      "2023-04-20 18:24:46.358560: I tensorflow/cc/saved_model/reader.cc:43] Reading SavedModel from: /tmp/tmp_7cogjb9\n",
      "2023-04-20 18:24:46.360965: I tensorflow/cc/saved_model/reader.cc:78] Reading meta graph with tags { serve }\n",
      "2023-04-20 18:24:46.360992: I tensorflow/cc/saved_model/reader.cc:119] Reading SavedModel debug info (if present) from: /tmp/tmp_7cogjb9\n",
      "2023-04-20 18:24:46.369795: I tensorflow/cc/saved_model/loader.cc:228] Restoring SavedModel bundle.\n",
      "2023-04-20 18:24:46.422114: I tensorflow/cc/saved_model/loader.cc:212] Running initialization op on SavedModel bundle at path: /tmp/tmp_7cogjb9\n",
      "2023-04-20 18:24:46.440486: I tensorflow/cc/saved_model/loader.cc:301] SavedModel load for tags { serve }; Status: success: OK. Took 81927 microseconds.\n"
     ]
    }
   ],
   "source": [
    "import tensorflow as tf\n",
    "\n",
    "# Convert the Keras model to a TFLite model\n",
    "converter = tf.lite.TFLiteConverter.from_keras_model(model)\n",
    "tflite_model = converter.convert()\n",
    "\n",
    "# Save the TFLite model to a file\n",
    "with open('hand_classifier_model.tflite', 'wb') as f:\n",
    "    f.write(tflite_model)"
   ]
  },
  {
   "cell_type": "code",
   "execution_count": 174,
   "metadata": {},
   "outputs": [
    {
     "name": "stdout",
     "output_type": "stream",
     "text": [
      "[[1.]]\n",
      "closed hand\n"
     ]
    }
   ],
   "source": [
    "import cv2\n",
    "import mediapipe as mp\n",
    "import numpy as np\n",
    "# Load the Mediapipe Hand Solution\n",
    "mp_hands = mp.solutions.hands.Hands(static_image_mode=True, max_num_hands=1)\n",
    "\n",
    "# Load the image\n",
    "image = cv2.imread(\"/home/kalpit/Documents/dataset/thumb.png\")\n",
    "\n",
    "# Convert the image to RGB\n",
    "image = cv2.cvtColor(image, cv2.COLOR_BGR2RGB)\n",
    "\n",
    "# Process the image with Mediapipe\n",
    "results = mp_hands.process(image)\n",
    "\n",
    "# Extract the landmarks if they are present\n",
    "if results.multi_hand_landmarks:\n",
    "    # Extract the landmarks\n",
    "    landmarks = [[float(landmark.x), float(landmark.y), float(landmark.z)] for landmark in results.multi_hand_landmarks[0].landmark]\n",
    "    # Reshape the landmarks\n",
    "    # print(landmarks)\n",
    "    X = np.array(landmarks).reshape(-1, 21, 3)\n",
    "    X = X.reshape(X.shape[0], -1)\n",
    "    # Make a prediction\n",
    "    y_pred = model.predict(X)\n",
    "    print(y_pred)\n",
    "    # Print the predicted label\n",
    "    if y_pred > 0.5:\n",
    "        print(\"closed hand\")\n",
    "    else:\n",
    "        print(\"open hand\")\n",
    "\n",
    "# Close the Mediapipe Hand Solution\n",
    "mp_hands.close()\n"
   ]
  },
  {
   "cell_type": "code",
   "execution_count": 108,
   "metadata": {},
   "outputs": [
    {
     "name": "stderr",
     "output_type": "stream",
     "text": [
      "2023-04-20 17:38:20.508297: W tensorflow/python/util/util.cc:368] Sets are not currently considered sequences, but this may change in the future, so consider avoiding using them.\n"
     ]
    },
    {
     "name": "stdout",
     "output_type": "stream",
     "text": [
      "INFO:tensorflow:Assets written to: ram://a579badf-70d4-43f9-b9cd-fa21f9082501/assets\n"
     ]
    }
   ],
   "source": [
    "import pickle\n",
    "filename=\"mp_hand_classifer\"\n",
    "pickle.dump(model, open(filename, 'wb'))\n",
    " "
   ]
  }
 ],
 "metadata": {
  "kernelspec": {
   "display_name": "Python 3",
   "language": "python",
   "name": "python3"
  },
  "language_info": {
   "codemirror_mode": {
    "name": "ipython",
    "version": 3
   },
   "file_extension": ".py",
   "mimetype": "text/x-python",
   "name": "python",
   "nbconvert_exporter": "python",
   "pygments_lexer": "ipython3",
   "version": "3.10.6"
  },
  "orig_nbformat": 4,
  "vscode": {
   "interpreter": {
    "hash": "e7370f93d1d0cde622a1f8e1c04877d8463912d04d973331ad4851f04de6915a"
   }
  }
 },
 "nbformat": 4,
 "nbformat_minor": 2
}

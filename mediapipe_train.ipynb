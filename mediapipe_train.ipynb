{
 "cells": [
  {
   "cell_type": "code",
   "execution_count": 175,
   "metadata": {},
   "outputs": [],
   "source": [
    "import csv\n",
    "import json\n",
    "import mediapipe as mp\n",
    "import os\n",
    "import numpy as np\n",
    "import pandas as pd\n",
    "from sklearn.model_selection import train_test_split\n",
    "import cv2\n",
    "# Load the Mediapipe Hand Solution\n",
    "mp_hands = mp.solutions.hands.Hands(static_image_mode=True, max_num_hands=1)\n",
    "\n",
    "# Create a dictionary to store the data\n",
    "data = {'landmarks': [], 'labels': []}\n",
    "\n",
    "# Loop over the images and extract the landmarks and labels\n",
    "for label in ['close_hand', 'open_hand']:\n",
    "    # Get the image paths and labels\n",
    "    image_folder = f\"/home/kalpit/Documents/dataset/{label}\"\n",
    "    image_paths = [os.path.join(image_folder, filename) for filename in os.listdir(image_folder)]\n",
    "    labels = np.ones(len(image_paths)) if label == 'close_hand' else np.zeros(len(image_paths))\n",
    "\n",
    "    # Loop over the images and extract the landmarks\n",
    "    for image_path, label in zip(image_paths, labels):\n",
    "        # Load the image\n",
    "        image = cv2.imread(image_path)\n",
    "\n",
    "        # Convert the image to RGB\n",
    "        image = cv2.cvtColor(image, cv2.COLOR_BGR2RGB)\n",
    "\n",
    "        # Process the image with Mediapipe\n",
    "        results = mp_hands.process(image)\n",
    "\n",
    "        # Extract the landmarks if they are present\n",
    "        if results.multi_hand_landmarks:\n",
    "            landmarks = [[float(landmark.x), float(landmark.y), float(landmark.z)] for landmark in results.multi_hand_landmarks[0].landmark]\n",
    "\n",
    "            # Add the landmarks and label to the dictionary\n",
    "            data['landmarks'].append(landmarks)\n",
    "            data['labels'].append(label)\n",
    "\n",
    "# Close the Mediapipe Hand Solution\n",
    "mp_hands.close()\n",
    "\n",
    "# Save the dictionary as a JSON file\n",
    "with open('hand_landmarks.json', 'w') as f:\n",
    "    json.dump(data, f)\n"
   ]
  },
  {
   "cell_type": "code",
   "execution_count": 176,
   "metadata": {},
   "outputs": [],
   "source": [
    "# 1 is for closed\n",
    "# lalel 0 is for open"
   ]
  },
  {
   "cell_type": "code",
   "execution_count": 177,
   "metadata": {},
   "outputs": [],
   "source": [
    "# Load the data from the JSON file\n",
    "data = pd.read_json('hand_landmarks.json')\n",
    "\n",
    "# Reshape the landmarks data\n",
    "landmarks = pd.concat([pd.DataFrame(x) for x in data[\"landmarks\"].values], ignore_index=True)\n",
    "\n",
    "# Split the data into features and labels\n",
    "X = landmarks.values.reshape(-1, 21, 3)\n",
    "X = X.reshape(X.shape[0], -1)\n",
    "y = data[\"labels\"]\n",
    "X_train, X_test, y_train, y_test = train_test_split(X, y, test_size=0.2, random_state=42)\n"
   ]
  },
  {
   "cell_type": "code",
   "execution_count": 178,
   "metadata": {},
   "outputs": [
    {
     "name": "stdout",
     "output_type": "stream",
     "text": [
      "(3384, 63)\n",
      "(677, 63)\n"
     ]
    }
   ],
   "source": [
    "print(X.shape)\n",
    "print(X_test.shape)\n"
   ]
  },
  {
   "cell_type": "code",
   "execution_count": 179,
   "metadata": {},
   "outputs": [
    {
     "name": "stdout",
     "output_type": "stream",
     "text": [
      "Epoch 1/50\n"
     ]
    },
    {
     "name": "stderr",
     "output_type": "stream",
     "text": [
      "/home/kalpit/.local/lib/python3.10/site-packages/keras/optimizer_v2/adam.py:105: UserWarning: The `lr` argument is deprecated, use `learning_rate` instead.\n",
      "  super(Adam, self).__init__(name, **kwargs)\n"
     ]
    },
    {
     "name": "stdout",
     "output_type": "stream",
     "text": [
      "85/85 [==============================] - 1s 7ms/step - loss: 0.6917 - accuracy: 0.5356 - val_loss: 0.6915 - val_accuracy: 0.5273\n",
      "Epoch 2/50\n",
      "85/85 [==============================] - 0s 5ms/step - loss: 0.6754 - accuracy: 0.5578 - val_loss: 0.5443 - val_accuracy: 0.8316\n",
      "Epoch 3/50\n",
      "85/85 [==============================] - 0s 6ms/step - loss: 0.3990 - accuracy: 0.8386 - val_loss: 0.2197 - val_accuracy: 0.9040\n",
      "Epoch 4/50\n",
      "85/85 [==============================] - 0s 5ms/step - loss: 0.1859 - accuracy: 0.9239 - val_loss: 0.0827 - val_accuracy: 0.9705\n",
      "Epoch 5/50\n",
      "85/85 [==============================] - 0s 5ms/step - loss: 0.1244 - accuracy: 0.9586 - val_loss: 0.0396 - val_accuracy: 0.9911\n",
      "Epoch 6/50\n",
      "85/85 [==============================] - 1s 6ms/step - loss: 0.0874 - accuracy: 0.9664 - val_loss: 0.0476 - val_accuracy: 0.9838\n",
      "Epoch 7/50\n",
      "85/85 [==============================] - 1s 8ms/step - loss: 0.0658 - accuracy: 0.9804 - val_loss: 0.0402 - val_accuracy: 0.9867\n",
      "Epoch 8/50\n",
      "85/85 [==============================] - 1s 8ms/step - loss: 0.0544 - accuracy: 0.9826 - val_loss: 0.0360 - val_accuracy: 0.9911\n",
      "Epoch 9/50\n",
      "85/85 [==============================] - 1s 8ms/step - loss: 0.0552 - accuracy: 0.9856 - val_loss: 0.0562 - val_accuracy: 0.9793\n",
      "Epoch 10/50\n",
      "85/85 [==============================] - 1s 8ms/step - loss: 0.0564 - accuracy: 0.9823 - val_loss: 0.0199 - val_accuracy: 0.9941\n",
      "Epoch 11/50\n",
      "85/85 [==============================] - 1s 7ms/step - loss: 0.0327 - accuracy: 0.9908 - val_loss: 0.0255 - val_accuracy: 0.9956\n",
      "Epoch 12/50\n",
      "85/85 [==============================] - 1s 7ms/step - loss: 0.0434 - accuracy: 0.9856 - val_loss: 0.0181 - val_accuracy: 0.9941\n",
      "Epoch 13/50\n",
      "85/85 [==============================] - 1s 7ms/step - loss: 0.0314 - accuracy: 0.9926 - val_loss: 0.0187 - val_accuracy: 0.9941\n",
      "Epoch 14/50\n",
      "85/85 [==============================] - 1s 7ms/step - loss: 0.0436 - accuracy: 0.9841 - val_loss: 0.0188 - val_accuracy: 0.9970\n",
      "Epoch 15/50\n",
      "85/85 [==============================] - 1s 7ms/step - loss: 0.0398 - accuracy: 0.9889 - val_loss: 0.0262 - val_accuracy: 0.9911\n",
      "Epoch 16/50\n",
      "85/85 [==============================] - 1s 7ms/step - loss: 0.0394 - accuracy: 0.9878 - val_loss: 0.0190 - val_accuracy: 0.9941\n",
      "Epoch 17/50\n",
      "85/85 [==============================] - 1s 7ms/step - loss: 0.0185 - accuracy: 0.9945 - val_loss: 0.0195 - val_accuracy: 0.9941\n",
      "Epoch 18/50\n",
      "85/85 [==============================] - 1s 7ms/step - loss: 0.0378 - accuracy: 0.9897 - val_loss: 0.0134 - val_accuracy: 0.9970\n",
      "Epoch 19/50\n",
      "85/85 [==============================] - 1s 7ms/step - loss: 0.0284 - accuracy: 0.9908 - val_loss: 0.0167 - val_accuracy: 0.9956\n",
      "Epoch 20/50\n",
      "85/85 [==============================] - 1s 7ms/step - loss: 0.0220 - accuracy: 0.9945 - val_loss: 0.0183 - val_accuracy: 0.9956\n",
      "Epoch 21/50\n",
      "85/85 [==============================] - 1s 6ms/step - loss: 0.0212 - accuracy: 0.9926 - val_loss: 0.0158 - val_accuracy: 0.9956\n",
      "Epoch 22/50\n",
      "85/85 [==============================] - 1s 6ms/step - loss: 0.0273 - accuracy: 0.9930 - val_loss: 0.0174 - val_accuracy: 0.9956\n",
      "Epoch 23/50\n",
      "85/85 [==============================] - 1s 6ms/step - loss: 0.0381 - accuracy: 0.9874 - val_loss: 0.0188 - val_accuracy: 0.9941\n",
      "Epoch 24/50\n",
      "85/85 [==============================] - 1s 6ms/step - loss: 0.0173 - accuracy: 0.9941 - val_loss: 0.0168 - val_accuracy: 0.9970\n",
      "Epoch 25/50\n",
      "85/85 [==============================] - 1s 6ms/step - loss: 0.0247 - accuracy: 0.9915 - val_loss: 0.0140 - val_accuracy: 0.9970\n",
      "Epoch 26/50\n",
      "85/85 [==============================] - 1s 7ms/step - loss: 0.0226 - accuracy: 0.9937 - val_loss: 0.0128 - val_accuracy: 0.9941\n",
      "Epoch 27/50\n",
      "85/85 [==============================] - 1s 6ms/step - loss: 0.0239 - accuracy: 0.9945 - val_loss: 0.0231 - val_accuracy: 0.9926\n",
      "Epoch 28/50\n",
      "85/85 [==============================] - 1s 6ms/step - loss: 0.0205 - accuracy: 0.9956 - val_loss: 0.0184 - val_accuracy: 0.9956\n",
      "Epoch 29/50\n",
      "85/85 [==============================] - 1s 6ms/step - loss: 0.0306 - accuracy: 0.9904 - val_loss: 0.0146 - val_accuracy: 0.9970\n",
      "Epoch 30/50\n",
      "85/85 [==============================] - 1s 7ms/step - loss: 0.0265 - accuracy: 0.9937 - val_loss: 0.0108 - val_accuracy: 0.9970\n",
      "Epoch 31/50\n",
      "85/85 [==============================] - 1s 6ms/step - loss: 0.0192 - accuracy: 0.9937 - val_loss: 0.0294 - val_accuracy: 0.9941\n",
      "Epoch 32/50\n",
      "85/85 [==============================] - 1s 6ms/step - loss: 0.0286 - accuracy: 0.9934 - val_loss: 0.0222 - val_accuracy: 0.9941\n",
      "Epoch 33/50\n",
      "85/85 [==============================] - 1s 6ms/step - loss: 0.0111 - accuracy: 0.9956 - val_loss: 0.0150 - val_accuracy: 0.9970\n",
      "Epoch 34/50\n",
      "85/85 [==============================] - 1s 6ms/step - loss: 0.0133 - accuracy: 0.9959 - val_loss: 0.0114 - val_accuracy: 0.9956\n",
      "Epoch 35/50\n",
      "85/85 [==============================] - 1s 6ms/step - loss: 0.0172 - accuracy: 0.9945 - val_loss: 0.0217 - val_accuracy: 0.9956\n",
      "Epoch 36/50\n",
      "85/85 [==============================] - 1s 6ms/step - loss: 0.0276 - accuracy: 0.9900 - val_loss: 0.0134 - val_accuracy: 0.9970\n",
      "Epoch 37/50\n",
      "85/85 [==============================] - 1s 6ms/step - loss: 0.0103 - accuracy: 0.9974 - val_loss: 0.0156 - val_accuracy: 0.9970\n",
      "Epoch 38/50\n",
      "85/85 [==============================] - 1s 6ms/step - loss: 0.0173 - accuracy: 0.9948 - val_loss: 0.0168 - val_accuracy: 0.9956\n",
      "Epoch 39/50\n",
      "85/85 [==============================] - 1s 6ms/step - loss: 0.0143 - accuracy: 0.9948 - val_loss: 0.0140 - val_accuracy: 0.9970\n",
      "Epoch 40/50\n",
      "85/85 [==============================] - 1s 6ms/step - loss: 0.0142 - accuracy: 0.9982 - val_loss: 0.0124 - val_accuracy: 0.9970\n",
      "Epoch 41/50\n",
      "85/85 [==============================] - 1s 6ms/step - loss: 0.0062 - accuracy: 0.9985 - val_loss: 0.0117 - val_accuracy: 0.9970\n",
      "Epoch 42/50\n",
      "85/85 [==============================] - 1s 6ms/step - loss: 0.0064 - accuracy: 0.9982 - val_loss: 0.0206 - val_accuracy: 0.9985\n",
      "Epoch 43/50\n",
      "85/85 [==============================] - 1s 6ms/step - loss: 0.0173 - accuracy: 0.9956 - val_loss: 0.0123 - val_accuracy: 0.9970\n",
      "Epoch 44/50\n",
      "85/85 [==============================] - 1s 6ms/step - loss: 0.0161 - accuracy: 0.9952 - val_loss: 0.0149 - val_accuracy: 0.9970\n",
      "Epoch 45/50\n",
      "85/85 [==============================] - 1s 6ms/step - loss: 0.0171 - accuracy: 0.9956 - val_loss: 0.0118 - val_accuracy: 0.9985\n",
      "Epoch 46/50\n",
      "85/85 [==============================] - 1s 6ms/step - loss: 0.0092 - accuracy: 0.9963 - val_loss: 0.0196 - val_accuracy: 0.9941\n",
      "Epoch 47/50\n",
      "85/85 [==============================] - 1s 6ms/step - loss: 0.0148 - accuracy: 0.9956 - val_loss: 0.0171 - val_accuracy: 0.9970\n",
      "Epoch 48/50\n",
      "85/85 [==============================] - 1s 6ms/step - loss: 0.0132 - accuracy: 0.9956 - val_loss: 0.0228 - val_accuracy: 0.9956\n",
      "Epoch 49/50\n",
      "85/85 [==============================] - 1s 6ms/step - loss: 0.0196 - accuracy: 0.9926 - val_loss: 0.0148 - val_accuracy: 0.9985\n",
      "Epoch 50/50\n",
      "85/85 [==============================] - 1s 6ms/step - loss: 0.0123 - accuracy: 0.9956 - val_loss: 0.0255 - val_accuracy: 0.9956\n",
      "22/22 [==============================] - 0s 2ms/step - loss: 0.0255 - accuracy: 0.9956\n",
      "Accuracy: 0.9955686926841736\n"
     ]
    }
   ],
   "source": [
    "from keras.models import Sequential\n",
    "from keras.layers import Dense, Dropout, Flatten, Conv1D, MaxPooling1D\n",
    "from tensorflow.keras.optimizers import Adam\n",
    "\n",
    "# Define the model architecture\n",
    "model = Sequential()\n",
    "model.add(Conv1D(filters=32, kernel_size=3, activation='relu', input_shape=(X_train.shape[1], 1)))\n",
    "model.add(Conv1D(filters=32, kernel_size=3, activation='relu'))\n",
    "model.add(MaxPooling1D(pool_size=2))\n",
    "model.add(Dropout(0.25))\n",
    "model.add(Conv1D(filters=64, kernel_size=3, activation='relu'))\n",
    "model.add(Conv1D(filters=64, kernel_size=3, activation='relu'))\n",
    "model.add(MaxPooling1D(pool_size=2))\n",
    "model.add(Dropout(0.25))\n",
    "model.add(Conv1D(filters=128, kernel_size=3, activation='relu'))\n",
    "model.add(Conv1D(filters=128, kernel_size=3, activation='relu'))\n",
    "model.add(MaxPooling1D(pool_size=2))\n",
    "model.add(Dropout(0.25))\n",
    "model.add(Flatten())\n",
    "model.add(Dense(256, activation='relu'))\n",
    "model.add(Dropout(0.5))\n",
    "model.add(Dense(128, activation='relu'))\n",
    "model.add(Dropout(0.5))\n",
    "model.add(Dense(1, activation='sigmoid'))\n",
    "\n",
    "# Compile the model\n",
    "optimizer = Adam(lr=0.001)\n",
    "model.compile(loss='binary_crossentropy', optimizer=optimizer, metrics=['accuracy'])\n",
    "\n",
    "# Train the model\n",
    "history = model.fit(X_train.reshape((X_train.shape[0], X_train.shape[1], 1)), y_train, validation_data=(X_test.reshape((X_test.shape[0], X_test.shape[1], 1)), y_test), epochs=50, batch_size=32)\n",
    "# Evaluate the model\n",
    "accuracy = model.evaluate(X_test.reshape((X_test.shape[0], X_test.shape[1], 1)), y_test)[1]\n",
    "print('Accuracy:', accuracy)\n"
   ]
  },
  {
   "cell_type": "code",
   "execution_count": 180,
   "metadata": {},
   "outputs": [
    {
     "data": {
      "text/plain": [
       "<AxesSubplot:>"
      ]
     },
     "execution_count": 180,
     "metadata": {},
     "output_type": "execute_result"
    },
    {
     "data": {
      "image/png": "[encoded data removed]",
      "text/plain": [
       "<Figure size 432x288 with 2 Axes>"
      ]
     },
     "metadata": {
      "needs_background": "light"
     },
     "output_type": "display_data"
    }
   ],
   "source": [
    "\n",
    "from sklearn.metrics import confusion_matrix\n",
    "import seaborn as sns\n",
    "\n",
    "# Generate predictions for X_test\n",
    "# Generate predictions for X_test\n",
    "y_pred_prob = model.predict(X_test.reshape((X_test.shape[0], X_test.shape[1], 1)))\n",
    "y_pred = np.argmax(y_pred_prob, axis=1)\n",
    "\n",
    "# y_pred = model.predict_classes(X_test.reshape((X_test.shape[0], X_test.shape[1], 1)))\n",
    "\n",
    "# Generate confusion matrix\n",
    "cm = confusion_matrix(y_test, y_pred)\n",
    "# Plot heatmap of confusion matrix\n",
    "sns.heatmap(cm, annot=True, fmt='d')\n"
   ]
  },
  {
   "cell_type": "code",
   "execution_count": 181,
   "metadata": {},
   "outputs": [
    {
     "data": {
      "image/png": "[encoded data removed]",
      "text/plain": [
       "<Figure size 432x288 with 1 Axes>"
      ]
     },
     "metadata": {
      "needs_background": "light"
     },
     "output_type": "display_data"
    }
   ],
   "source": [
    "import matplotlib.pyplot as plt\n",
    "\n",
    "# Get the training and validation accuracy from the history object\n",
    "train_acc = history.history['accuracy']\n",
    "val_acc = history.history['val_accuracy']\n",
    "\n",
    "# Plot the accuracy\n",
    "plt.plot(train_acc, label='Training Accuracy')\n",
    "plt.plot(val_acc, label='Validation Accuracy')\n",
    "plt.xlabel('Epoch')\n",
    "plt.ylabel('Accuracy')\n",
    "plt.legend()\n",
    "plt.show()\n"
   ]
  },
  {
   "cell_type": "code",
   "execution_count": 182,
   "metadata": {},
   "outputs": [
    {
     "name": "stdout",
     "output_type": "stream",
     "text": [
      "INFO:tensorflow:Assets written to: /tmp/tmpkstkd3ip/assets\n"
     ]
    },
    {
     "name": "stderr",
     "output_type": "stream",
     "text": [
      "INFO:tensorflow:Assets written to: /tmp/tmpkstkd3ip/assets\n",
      "2023-04-20 18:49:50.849247: W tensorflow/compiler/mlir/lite/python/tf_tfl_flatbuffer_helpers.cc:357] Ignored output_format.\n",
      "2023-04-20 18:49:50.849276: W tensorflow/compiler/mlir/lite/python/tf_tfl_flatbuffer_helpers.cc:360] Ignored drop_control_dependency.\n",
      "2023-04-20 18:49:50.849439: I tensorflow/cc/saved_model/reader.cc:43] Reading SavedModel from: /tmp/tmpkstkd3ip\n",
      "2023-04-20 18:49:50.851865: I tensorflow/cc/saved_model/reader.cc:78] Reading meta graph with tags { serve }\n",
      "2023-04-20 18:49:50.851886: I tensorflow/cc/saved_model/reader.cc:119] Reading SavedModel debug info (if present) from: /tmp/tmpkstkd3ip\n",
      "2023-04-20 18:49:50.859809: I tensorflow/cc/saved_model/loader.cc:228] Restoring SavedModel bundle.\n",
      "2023-04-20 18:49:50.912835: I tensorflow/cc/saved_model/loader.cc:212] Running initialization op on SavedModel bundle at path: /tmp/tmpkstkd3ip\n",
      "2023-04-20 18:49:50.931001: I tensorflow/cc/saved_model/loader.cc:301] SavedModel load for tags { serve }; Status: success: OK. Took 81562 microseconds.\n"
     ]
    }
   ],
   "source": [
    "import tensorflow as tf\n",
    "\n",
    "# Convert the Keras model to a TFLite model\n",
    "converter = tf.lite.TFLiteConverter.from_keras_model(model)\n",
    "tflite_model = converter.convert()\n",
    "\n",
    "# Save the TFLite model to a file\n",
    "with open('hand_classifier_model.tflite', 'wb') as f:\n",
    "    f.write(tflite_model)"
   ]
  },
  {
   "cell_type": "code",
   "execution_count": 183,
   "metadata": {},
   "outputs": [
    {
     "name": "stdout",
     "output_type": "stream",
     "text": [
      "[[1.]]\n",
      "closed hand\n"
     ]
    }
   ],
   "source": [
    "import cv2\n",
    "import mediapipe as mp\n",
    "import numpy as np\n",
    "# Load the Mediapipe Hand Solution\n",
    "mp_hands = mp.solutions.hands.Hands(static_image_mode=True, max_num_hands=1)\n",
    "\n",
    "# Load the image\n",
    "image = cv2.imread(\"/home/kalpit/Documents/dataset/thumb.png\")\n",
    "\n",
    "# Convert the image to RGB\n",
    "image = cv2.cvtColor(image, cv2.COLOR_BGR2RGB)\n",
    "\n",
    "# Process the image with Mediapipe\n",
    "results = mp_hands.process(image)\n",
    "\n",
    "# Extract the landmarks if they are present\n",
    "if results.multi_hand_landmarks:\n",
    "    # Extract the landmarks\n",
    "    landmarks = [[float(landmark.x), float(landmark.y), float(landmark.z)] for landmark in results.multi_hand_landmarks[0].landmark]\n",
    "    # Reshape the landmarks\n",
    "    # print(landmarks)\n",
    "    X = np.array(landmarks).reshape(-1, 21, 3)\n",
    "    X = X.reshape(X.shape[0], -1)\n",
    "    # Make a prediction\n",
    "    y_pred = model.predict(X)\n",
    "    print(y_pred)\n",
    "    # Print the predicted label\n",
    "    if y_pred > 0.5:\n",
    "        print(\"closed hand\")\n",
    "    else:\n",
    "        print(\"open hand\")\n",
    "\n",
    "# Close the Mediapipe Hand Solution\n",
    "mp_hands.close()\n"
   ]
  },
  {
   "cell_type": "code",
   "execution_count": null,
   "metadata": {},
   "outputs": [],
   "source": []
  }
 ],
 "metadata": {
  "kernelspec": {
   "display_name": "Python 3",
   "language": "python",
   "name": "python3"
  },
  "language_info": {
   "codemirror_mode": {
    "name": "ipython",
    "version": 3
   },
   "file_extension": ".py",
   "mimetype": "text/x-python",
   "name": "python",
   "nbconvert_exporter": "python",
   "pygments_lexer": "ipython3",
   "version": "3.10.6"
  },
  "orig_nbformat": 4,
  "vscode": {
   "interpreter": {
    "hash": "e7370f93d1d0cde622a1f8e1c04877d8463912d04d973331ad4851f04de6915a"
   }
  }
 },
 "nbformat": 4,
 "nbformat_minor": 2
}
